{
 "cells": [
  {
   "cell_type": "markdown",
   "metadata": {},
   "source": [
    "# Data Wrangling of Amazon Customer Reviews Dataset\n",
    "\n",
    "## Introduction\n",
    "The Amazon Customer Reviews dataset is downloaded as a tsv file and can be found [here](https://s3.amazonaws.com/amazon-reviews-pds/tsv/index.txt) while the readme can be found [here](https://s3.amazonaws.com/amazon-reviews-pds/readme.html).  \n",
    "\n",
    "The Amazon Customer Reviews Dataset is a robust set of tsv files that house over a hundred million reviews that express opinions and experiences of shoppers regarding products on the Amazon.com website.  This makes Amazon Customer Reviews a rich source of information for Natural Language Processing (NLP), Information Retrieval (IR) and Machine Learning (ML).  Reviews range from 1995 to 2015 and are compiled from customers in 5 countries.\n",
    "\n",
    "Most of the tsv files only contain reviews for products in one category (toys, software, shoes, lawn and garden, etc.), but there are millions of reviews in each tsv file.  We are going to be using a multilingual reviews dataset (US) which contains multiple categories and several million reviews.\n",
    "\t\n",
    "The dataset contains 6.9 million+ reviews on a 5-star rating scale from 4 million+ different customers.  There are 86,000+ products in 16,000+ product parents ranging in 39 different categories from August 8th, 1995 to August 31, 2015.  Some of the categories are mobile apps, digital ebooks, home entertainment, video games, home improvement, automotive, software, beauty and much much more."
   ]
  },
  {
   "cell_type": "markdown",
   "metadata": {},
   "source": [
    "**DATA COLUMNS:**\n",
    "- **marketplace**       - 2 letter country code of the marketplace where the review was written. **(DELETED)**\n",
    "- **customer_id**       - Random identifier that can be used to aggregate reviews written by a single author.\n",
    "- **review_id**         - The unique ID of the review.\n",
    "- **product_id**        - The unique Product ID the review pertains to.\n",
    "- **product_parent**    - Random identifier that can be used to aggregate reviews for the same product.\n",
    "- **product_title**     - Title of the product.\n",
    "- **product_category**  - Broad product category that can be used to group reviews (also used to group the dataset into coherent parts).\n",
    "- **star_rating**       - The 1-5 star rating of the review.\n",
    "- **helpful_votes**     - Number of helpful votes or upvotes a review received.\n",
    "- **downvotes**         - Number of downvotes a review received. **(ADDED)**\n",
    "- **total_votes**       - Number of total votes the review received.\n",
    "- **vine**              - Review was written as part of the Vine program. **(DELETED)**\n",
    "- **verified_purchase** - The review is on a verified purchase.\n",
    "- **review_headline**   - The title of the review.\n",
    "- **review_body**       - The review text.\n",
    "- **review_date**       - The date the review was written.\n",
    "- **purchased_count**   - Amount of purchases the product received (by product id). **(ADDED)**\n"
   ]
  },
  {
   "cell_type": "markdown",
   "metadata": {},
   "source": [
    "## Read in data\n",
    "While reading in the data, several lines were ignored because of errors but only a very very small percentage of the whole dataset was ignored."
   ]
  },
  {
   "cell_type": "code",
   "execution_count": 1,
   "metadata": {},
   "outputs": [],
   "source": [
    "# Import libraries and read in datasets\n",
    "import pandas as pd\n",
    "import numpy as np\n",
    "import warnings\n",
    "warnings.filterwarnings('ignore')\n",
    "\n",
    "apr = pd.read_csv('APR_data/amazon_reviews_multilingual_US_v1_00.tsv', \n",
    "                       sep='\\t', error_bad_lines=False, warn_bad_lines=False)"
   ]
  },
  {
   "cell_type": "markdown",
   "metadata": {},
   "source": [
    "## Standardize Columns & Product Categories"
   ]
  },
  {
   "cell_type": "code",
   "execution_count": 2,
   "metadata": {},
   "outputs": [],
   "source": [
    "# Find out how many downvotes each review received\n",
    "apr['downvotes'] = apr.total_votes - apr.helpful_votes\n",
    "\n",
    "# Reorder columns\n",
    "columns = ['marketplace', 'customer_id', 'review_id', 'product_id',\n",
    "       'product_parent', 'product_title', 'product_category', 'star_rating',\n",
    "       'helpful_votes', 'downvotes', 'total_votes', 'vine', 'verified_purchase',\n",
    "       'review_headline', 'review_body', 'review_date']\n",
    "\n",
    "apr = apr[columns]"
   ]
  },
  {
   "cell_type": "code",
   "execution_count": 3,
   "metadata": {},
   "outputs": [
    {
     "data": {
      "text/plain": [
       "array(['Books', 'Music', 'Video', 'Video DVD', 'Toys', 'Tools',\n",
       "       'Office Products', 'Video Games', 'Software',\n",
       "       'Digital Music Purchase', 'Home Entertainment', 'Electronics',\n",
       "       'Digital eBook Purchase', 'Digital Video Download', 'Kitchen',\n",
       "       'Camera', 'Outdoors', 'Musical Instruments', 'Sports', 'Watches',\n",
       "       'PC', 'Home', 'Wireless', 'Beauty', 'Baby', 'Home Improvement',\n",
       "       'Apparel', 'Shoes', 'Lawn & Garden', 'Mobile Electronics',\n",
       "       'Health & Personal Care', 'Grocery', 'Luggage',\n",
       "       'Personal Care Appliances', 'Automotive', 'Mobile Apps',\n",
       "       'Furniture', '2012-12-22', 'Pet Products'], dtype=object)"
      ]
     },
     "execution_count": 3,
     "metadata": {},
     "output_type": "execute_result"
    }
   ],
   "source": [
    "# Standardized product category names\n",
    "apr.product_category.replace({\n",
    "        'Digital_Music_Purchase': 'Digital Music Purchase',\n",
    "        'Digital_Ebook_Purchase': 'Digital eBook Purchase',\n",
    "        'Digital_Video_Download': 'Digital Video Download',\n",
    "        'Lawn and Garden': 'Lawn & Garden',\n",
    "        'Mobile_Electronics': 'Mobile Electronics',\n",
    "        'Personal_Care_Appliances': 'Personal Care Appliances',\n",
    "        'Mobile_Apps': 'Mobile Apps'\n",
    "    }, inplace=True)\n",
    "\n",
    "apr.product_category.unique()"
   ]
  },
  {
   "cell_type": "markdown",
   "metadata": {},
   "source": [
    "## A Look into Our Initial Dataset"
   ]
  },
  {
   "cell_type": "code",
   "execution_count": 4,
   "metadata": {},
   "outputs": [
    {
     "name": "stdout",
     "output_type": "stream",
     "text": [
      "Reviews are taken from: 1995-08-13 to 2015-08-31\n",
      "\n",
      "Number of reviews: 6,900,886\n",
      "Number of customers: 4,097,784\n",
      "Number of product parents: 16,310\n",
      "Number of product titles: 52,326\n",
      "Number of unique products: 86,813\n",
      "Number of product categories: 39\n",
      "Number of days a review was made on: 6,916\n"
     ]
    }
   ],
   "source": [
    "# An initial look at our dataframe\n",
    "print('Reviews are taken from: {} to {}\\n'. format(sorted(apr.review_date.head(1)).pop(), \n",
    "                                                   sorted(apr.review_date.tail(1)).pop()))\n",
    "print('Number of reviews: {:,}'.format(len(apr)))\n",
    "print('Number of customers: {:,}'.format(len(apr.customer_id.unique())))\n",
    "print('Number of product parents: {:,}'.format(len(apr.product_parent.unique())))\n",
    "print('Number of product titles: {:,}'.format(len(apr.product_title.unique())))\n",
    "print('Number of unique products: {:,}'.format(len(apr.product_id.unique())))\n",
    "print('Number of product categories: {:,}'.format(len(apr.product_category.unique())))\n",
    "print('Number of days a review was made on: {:,}'.format(len(apr.review_date.unique())))"
   ]
  },
  {
   "cell_type": "markdown",
   "metadata": {},
   "source": [
    "## Drop Products With Under 100 Reviews\n",
    "We want to make an accurate recommendation system and most of the products featured in the dataset have very little purchases.  We wanted to used products that had a reasonable amount of purchases but still keep the dataset as intact as possible.  With products with at least 100 purchases, we were able to hold on to 85% of our dataset.  \n",
    "\n",
    "Even though we lost roughly 75,000 unique products, most of them were single purchases of the same item with different product ids."
   ]
  },
  {
   "cell_type": "code",
   "execution_count": 5,
   "metadata": {},
   "outputs": [
    {
     "data": {
      "text/plain": [
       "product_parent  product_title                                                        \n",
       "896923          For Whom The Bell Tolls                                                  8\n",
       "                FOR WHOM THE BELL TOLLS                                                  5\n",
       "                For Whom the Bell Tolls (War Promo)                                      2\n",
       "                FOR WHOM THE BELL TOLLS ~1940 BOOK CLUB EDITION                          1\n",
       "                For Whom The Bell Tolls (Turtleback School & Library Binding Edition)    1\n",
       "                For Whom the Bell Tolls (Illustrated)                                    1\n",
       "                For Whom the Bell Tolls (Scribner Classic)                               1\n",
       "                For Whom the Bell Tolls (The Scribner Library)                           1\n",
       "Name: product_title, dtype: int64"
      ]
     },
     "execution_count": 5,
     "metadata": {},
     "output_type": "execute_result"
    }
   ],
   "source": [
    "# Many lost unique product ids were actually small variations of the same product\n",
    "apr.groupby('product_parent')['product_title'].value_counts()[12:20]"
   ]
  },
  {
   "cell_type": "markdown",
   "metadata": {},
   "source": [
    "The mean before dropping rows is 80 purchases per product, but we wanted a higher threshold."
   ]
  },
  {
   "cell_type": "code",
   "execution_count": 6,
   "metadata": {},
   "outputs": [
    {
     "data": {
      "text/plain": [
       "count    86813.000000\n",
       "mean        79.491390\n",
       "std        570.110821\n",
       "min          1.000000\n",
       "25%          1.000000\n",
       "50%          6.000000\n",
       "75%         36.000000\n",
       "max      49789.000000\n",
       "Name: product_id, dtype: float64"
      ]
     },
     "execution_count": 6,
     "metadata": {},
     "output_type": "execute_result"
    }
   ],
   "source": [
    "# Summary statistics of original dataset\n",
    "apr.product_id.value_counts().describe()"
   ]
  },
  {
   "cell_type": "code",
   "execution_count": 7,
   "metadata": {},
   "outputs": [
    {
     "name": "stdout",
     "output_type": "stream",
     "text": [
      "Number of purchases: 5,834,243\n",
      "Number of unique products: 11,502\n",
      "Dataset reduced by 15.46%\n"
     ]
    }
   ],
   "source": [
    "# Number of products purchased after dropping any unique products with less than 100 purchases\n",
    "print('Number of purchases: {:,}'.format(\n",
    "    apr.groupby('product_id')['product_id'].count()[apr.groupby('product_id')['product_id'].count() >= 100].sum()))\n",
    "print('Number of unique products: {:,}'.format(\n",
    "    len(apr.groupby('product_id')['product_id'].count()[apr.groupby('product_id')['product_id'].count() >= 100])))\n",
    "print('Dataset reduced by {:.2f}%'.format((1-5833771/len(apr))*100))"
   ]
  },
  {
   "cell_type": "code",
   "execution_count": 8,
   "metadata": {},
   "outputs": [],
   "source": [
    "# Extract counts on how many customers purchased a unique product\n",
    "purchased_counts = apr.product_id.value_counts().rename('purchased_counts')\n",
    "\n",
    "# Add column containing product purchased counts\n",
    "apr = apr.merge(purchased_counts.to_frame(),\n",
    "                left_on='product_id',\n",
    "                right_index=True)\n",
    "\n",
    "# Filter only products with 100 or more purchases\n",
    "apr = apr[apr.purchased_counts >= 100]"
   ]
  },
  {
   "cell_type": "markdown",
   "metadata": {},
   "source": [
    "## A Look into Our New Dataset"
   ]
  },
  {
   "cell_type": "code",
   "execution_count": 9,
   "metadata": {},
   "outputs": [
    {
     "name": "stdout",
     "output_type": "stream",
     "text": [
      "Reviews are taken from: 1995-08-13 to 2015-08-31\n",
      "\n",
      "Number of reviews: 5,834,243\n",
      "Number of customers: 3,653,843\n",
      "Number of product parents: 6,654\n",
      "Number of product titles: 9,081\n",
      "Number of unique products: 11,502\n",
      "Number of product categories: 29\n",
      "Number of days a review was made on: 6,839\n"
     ]
    }
   ],
   "source": [
    "print('Reviews are taken from: {} to {}\\n'. format(sorted(apr.review_date.head(1)).pop(), \n",
    "                                                   sorted(apr.review_date.tail(1)).pop()))\n",
    "print('Number of reviews: {:,}'.format(len(apr)))\n",
    "print('Number of customers: {:,}'.format(len(apr.customer_id.unique())))\n",
    "print('Number of product parents: {:,}'.format(len(apr.product_parent.unique())))\n",
    "print('Number of product titles: {:,}'.format(len(apr.product_title.unique())))\n",
    "print('Number of unique products: {:,}'.format(len(apr.product_id.unique())))\n",
    "print('Number of product categories: {:,}'.format(len(apr.product_category.unique())))\n",
    "print('Number of days a review was made on: {:,}'.format(len(apr.review_date.unique())))"
   ]
  },
  {
   "cell_type": "code",
   "execution_count": 10,
   "metadata": {},
   "outputs": [
    {
     "data": {
      "text/plain": [
       "count    11502.000000\n",
       "mean       507.237263\n",
       "std       1496.494488\n",
       "min        100.000000\n",
       "25%        141.000000\n",
       "50%        218.000000\n",
       "75%        403.000000\n",
       "max      49789.000000\n",
       "Name: product_id, dtype: float64"
      ]
     },
     "execution_count": 10,
     "metadata": {},
     "output_type": "execute_result"
    }
   ],
   "source": [
    "# New summary statistics\n",
    "apr.product_id.value_counts().describe()"
   ]
  },
  {
   "cell_type": "code",
   "execution_count": 11,
   "metadata": {
    "scrolled": false
   },
   "outputs": [
    {
     "data": {
      "text/plain": [
       "product_category\n",
       "Automotive                    102\n",
       "Baby                         5352\n",
       "Books                      658781\n",
       "Camera                      12997\n",
       "Digital Music Purchase      39401\n",
       "Digital Video Download     887119\n",
       "Digital eBook Purchase    1170542\n",
       "Electronics                  9303\n",
       "Health & Personal Care        971\n",
       "Home                         1384\n",
       "Home Entertainment          35868\n",
       "Home Improvement             3020\n",
       "Kitchen                      1508\n",
       "Lawn & Garden                1167\n",
       "Mobile Apps               1451751\n",
       "Music                      511926\n",
       "Musical Instruments          9473\n",
       "Office Products              1836\n",
       "Outdoors                     2575\n",
       "PC                          48917\n",
       "Shoes                         281\n",
       "Sports                       3483\n",
       "Tools                        7023\n",
       "Toys                        41353\n",
       "Video                        9080\n",
       "Video DVD                  874995\n",
       "Video Games                 14693\n",
       "Watches                      8756\n",
       "Wireless                    20586\n",
       "Name: product_category, dtype: int64"
      ]
     },
     "execution_count": 11,
     "metadata": {},
     "output_type": "execute_result"
    }
   ],
   "source": [
    "# Number of reviews in each product category\n",
    "apr.groupby('product_category')['product_category'].count()"
   ]
  },
  {
   "cell_type": "markdown",
   "metadata": {},
   "source": [
    "## Product Parent vs. Product Title vs. Product ID\n",
    "It is important to know that for most products: \n",
    "- the product id is a unique item in a unique category and unique name\n",
    "- the product title can be the same for 2 different product ids because they pertain to more than one category (cd, dvd, digital music)\n",
    "- the product parent houses the many variations of a product (name, category, format)\n",
    "\n",
    "For example, product parent 896923 has two different unique products which are the same product, \"For Whom the Bell Toll,\" but one is an ebook and the other is a physical book.\n",
    "\n",
    "Because of this we initially were going to make a recommendation system using the product parent."
   ]
  },
  {
   "cell_type": "code",
   "execution_count": 12,
   "metadata": {
    "scrolled": false
   },
   "outputs": [
    {
     "data": {
      "text/plain": [
       "product_parent  product_id\n",
       "225472          B00K7C17QW    4008\n",
       "896923          0684803356     329\n",
       "                B000FC0OOU     211\n",
       "1002835         B000002GB9     132\n",
       "1005285         B004PAHZMC     283\n",
       "Name: product_id, dtype: int64"
      ]
     },
     "execution_count": 12,
     "metadata": {},
     "output_type": "execute_result"
    }
   ],
   "source": [
    "apr.groupby('product_parent')['product_id'].value_counts().head()"
   ]
  },
  {
   "cell_type": "code",
   "execution_count": 13,
   "metadata": {
    "scrolled": true
   },
   "outputs": [
    {
     "data": {
      "text/plain": [
       "product_parent  product_title                                                      \n",
       "225472          CSI: Hidden Crimes                                                     4008\n",
       "896923          For Whom the Bell Tolls                                                 329\n",
       "                For Whom the Bell Tolls (Scribner Classics)                             211\n",
       "1002835         The Grand Illusion                                                      132\n",
       "1005285         Neat-Oh! LEGO Star Wars ZipBin Battle Bridge 500 Brick Storage Case     283\n",
       "Name: product_title, dtype: int64"
      ]
     },
     "execution_count": 13,
     "metadata": {},
     "output_type": "execute_result"
    }
   ],
   "source": [
    "apr.groupby('product_parent')['product_title'].value_counts().head()"
   ]
  },
  {
   "cell_type": "code",
   "execution_count": 14,
   "metadata": {},
   "outputs": [
    {
     "data": {
      "text/plain": [
       "product_parent  product_category      \n",
       "225472          Mobile Apps               4008\n",
       "896923          Books                      329\n",
       "                Digital eBook Purchase     211\n",
       "1002835         Music                      132\n",
       "1005285         Toys                       283\n",
       "Name: product_category, dtype: int64"
      ]
     },
     "execution_count": 14,
     "metadata": {},
     "output_type": "execute_result"
    }
   ],
   "source": [
    "apr.groupby('product_parent')['product_category'].value_counts().head()"
   ]
  },
  {
   "cell_type": "markdown",
   "metadata": {},
   "source": [
    "### Although\n",
    "Upon further analysis we found that we will have to be careful with the idea because many products that have the same name are different editions of each other.  Some are movies, while others are games or songs.  Some are part 1 of a movie, while others are sequels are prequels.  Also, some product parents house many different popular unique items as seen below.  We may work on a hierarchy from product parent to product id in order to better assess the differences and similarities of the products."
   ]
  },
  {
   "cell_type": "code",
   "execution_count": 15,
   "metadata": {
    "scrolled": false
   },
   "outputs": [
    {
     "data": {
      "text/plain": [
       "product_parent  product_title                              \n",
       "999720718       Skipping Christmas: A Novel                    719\n",
       "                The Grapes of Wrath                            706\n",
       "                The Partner                                    494\n",
       "                The Partner: A Novel                           453\n",
       "                Skipping Christmas                             256\n",
       "                The Grapes of Wrath (Centennial Edition)       205\n",
       "                The Grapes of Wrath (20th Century Classics)    200\n",
       "Name: product_title, dtype: int64"
      ]
     },
     "execution_count": 15,
     "metadata": {},
     "output_type": "execute_result"
    }
   ],
   "source": [
    "example = apr[apr.product_parent == 999720718]\n",
    "example.groupby('product_parent')['product_title'].value_counts()"
   ]
  },
  {
   "cell_type": "code",
   "execution_count": 16,
   "metadata": {},
   "outputs": [
    {
     "data": {
      "text/plain": [
       "product_parent  product_title                                                   \n",
       "382448153       The Girl Who Kicked the Hornet's Nest (Millennium Series Book 3)    1804\n",
       "                The Girl Who Played with Fire (Millennium Series Book 2)            1569\n",
       "                The Girl Who Kicked the Hornet's Nest (Millennium Trilogy)          1093\n",
       "                The Girl Who Played with Fire (Millennium Series)                   1091\n",
       "                The Girl Who Played with Fire (Millennium )                          455\n",
       "                The Girl Who Kicked the Hornet's Nest                                304\n",
       "                The Girl Who Kicked the Hornets' Nest (Millennium Series Book 3)     199\n",
       "                The Girl Who Kicked the Hornet's Nest (Millennium Series)            168\n",
       "                The Girl Who Played With Fire (Millennium Series)                    152\n",
       "Name: product_title, dtype: int64"
      ]
     },
     "execution_count": 16,
     "metadata": {},
     "output_type": "execute_result"
    }
   ],
   "source": [
    "example = apr[apr.product_parent == 382448153]\n",
    "example.groupby('product_parent')['product_title'].value_counts()"
   ]
  },
  {
   "cell_type": "code",
   "execution_count": 17,
   "metadata": {},
   "outputs": [
    {
     "data": {
      "text/plain": [
       "product_parent  product_title                                             \n",
       "825691170       The Maze Runner (The Maze Runner, Book 1)                     5288\n",
       "                The Kill Order (Prequel)                                       929\n",
       "                The Maze Runner (Book 1)                                       905\n",
       "                The Maze Runner Series Complete Collection (Maze Runner)       530\n",
       "                The Maze Runner Series (Maze Runner)                           360\n",
       "                The Maze Runner (Maze Runner, Book One)                        242\n",
       "                The Kill Order: Book Four; Origin (The Maze Runner Series)     235\n",
       "                The Maze Runner Trilogy (Maze Runner)                          193\n",
       "                The Kill Order (The Maze Runner)                               136\n",
       "Name: product_title, dtype: int64"
      ]
     },
     "execution_count": 17,
     "metadata": {},
     "output_type": "execute_result"
    }
   ],
   "source": [
    "example = apr[apr.product_parent == 825691170]\n",
    "example.groupby('product_parent')['product_title'].value_counts()"
   ]
  },
  {
   "cell_type": "markdown",
   "metadata": {},
   "source": [
    "## Drop Rows with Missing Data\n",
    "There are very little rows with missing data, so we dropped any that did have missing data."
   ]
  },
  {
   "cell_type": "code",
   "execution_count": 18,
   "metadata": {},
   "outputs": [
    {
     "name": "stdout",
     "output_type": "stream",
     "text": [
      "MISSING ROWS per COLUMN\n",
      "marketplace: 0, 0.00%\n",
      "customer_id: 0, 0.00%\n",
      "review_id: 0, 0.00%\n",
      "product_id: 0, 0.00%\n",
      "product_parent: 0, 0.00%\n",
      "product_title: 0, 0.00%\n",
      "product_category: 0, 0.00%\n",
      "star_rating: 0, 0.00%\n",
      "helpful_votes: 0, 0.00%\n",
      "downvotes: 0, 0.00%\n",
      "total_votes: 0, 0.00%\n",
      "vine: 0, 0.00%\n",
      "verified_purchase: 0, 0.00%\n",
      "review_headline: 59, 0.00%\n",
      "review_body: 57, 0.00%\n",
      "review_date: 257, 0.00%\n",
      "purchased_counts: 0, 0.00%\n"
     ]
    }
   ],
   "source": [
    "def missing(dataset):\n",
    "    columns = dataset.columns\n",
    "    print('MISSING ROWS per COLUMN')\n",
    "    for column in columns:\n",
    "        percentage = (dataset[column].isnull().sum() / len(dataset)) * 100\n",
    "        print('{}: {}, {:0.2f}%'.format(column, dataset[column].isnull().sum(), percentage))\n",
    "        \n",
    "missing(apr)"
   ]
  },
  {
   "cell_type": "code",
   "execution_count": 19,
   "metadata": {
    "scrolled": true
   },
   "outputs": [
    {
     "name": "stdout",
     "output_type": "stream",
     "text": [
      "MISSING ROWS per COLUMN\n",
      "marketplace: 0, 0.00%\n",
      "customer_id: 0, 0.00%\n",
      "review_id: 0, 0.00%\n",
      "product_id: 0, 0.00%\n",
      "product_parent: 0, 0.00%\n",
      "product_title: 0, 0.00%\n",
      "product_category: 0, 0.00%\n",
      "star_rating: 0, 0.00%\n",
      "helpful_votes: 0, 0.00%\n",
      "downvotes: 0, 0.00%\n",
      "total_votes: 0, 0.00%\n",
      "vine: 0, 0.00%\n",
      "verified_purchase: 0, 0.00%\n",
      "review_headline: 0, 0.00%\n",
      "review_body: 0, 0.00%\n",
      "review_date: 0, 0.00%\n",
      "purchased_counts: 0, 0.00%\n"
     ]
    }
   ],
   "source": [
    "apr.dropna(axis=0, inplace=True)\n",
    "missing(apr)"
   ]
  },
  {
   "cell_type": "code",
   "execution_count": 20,
   "metadata": {},
   "outputs": [],
   "source": [
    "# Reset index and drop unimportant columns\n",
    "apr = apr.reset_index().drop(['index', 'marketplace', 'vine'], axis=1)"
   ]
  },
  {
   "cell_type": "markdown",
   "metadata": {},
   "source": [
    "## A Look into Our Final Dataset"
   ]
  },
  {
   "cell_type": "code",
   "execution_count": 21,
   "metadata": {},
   "outputs": [
    {
     "data": {
      "text/plain": [
       "Y    4365715\n",
       "N    1468155\n",
       "Name: verified_purchase, dtype: int64"
      ]
     },
     "execution_count": 21,
     "metadata": {},
     "output_type": "execute_result"
    }
   ],
   "source": [
    "apr['verified_purchase'].value_counts()"
   ]
  },
  {
   "cell_type": "code",
   "execution_count": 22,
   "metadata": {},
   "outputs": [
    {
     "data": {
      "text/plain": [
       "star_rating\n",
       "1.0     347001\n",
       "2.0     236052\n",
       "3.0     454752\n",
       "4.0    1074800\n",
       "5.0    3721265\n",
       "Name: star_rating, dtype: int64"
      ]
     },
     "execution_count": 22,
     "metadata": {},
     "output_type": "execute_result"
    }
   ],
   "source": [
    "apr.groupby('star_rating')['star_rating'].count()"
   ]
  },
  {
   "cell_type": "code",
   "execution_count": 23,
   "metadata": {},
   "outputs": [
    {
     "name": "stdout",
     "output_type": "stream",
     "text": [
      "Reviews are taken from: 1995-08-13 to 2015-08-31\n",
      "\n",
      "Number of reviews: 5,833,870\n",
      "Number of customers: 3,653,661\n",
      "Number of product parents: 6,654\n",
      "Number of product titles: 9,081\n",
      "Number of unique products: 11,502\n",
      "Number of product categories: 29\n",
      "Number of days a review was made on: 6,838\n"
     ]
    }
   ],
   "source": [
    "# An initial look at our dataframe\n",
    "print('Reviews are taken from: {} to {}\\n'. format(sorted(apr.review_date.head(1)).pop(), \n",
    "                                                   sorted(apr.review_date.tail(1)).pop()))\n",
    "print('Number of reviews: {:,}'.format(len(apr)))\n",
    "print('Number of customers: {:,}'.format(len(apr.customer_id.unique())))\n",
    "print('Number of product parents: {:,}'.format(len(apr.product_parent.unique())))\n",
    "print('Number of product titles: {:,}'.format(len(apr.product_title.unique())))\n",
    "print('Number of unique products: {:,}'.format(len(apr.product_id.unique())))\n",
    "print('Number of product categories: {:,}'.format(len(apr.product_category.unique())))\n",
    "print('Number of days a review was made on: {:,}'.format(len(apr.review_date.unique())))"
   ]
  },
  {
   "cell_type": "code",
   "execution_count": 24,
   "metadata": {},
   "outputs": [
    {
     "name": "stdout",
     "output_type": "stream",
     "text": [
      "<class 'pandas.core.frame.DataFrame'>\n",
      "RangeIndex: 5833870 entries, 0 to 5833869\n",
      "Data columns (total 15 columns):\n",
      "customer_id          int64\n",
      "review_id            object\n",
      "product_id           object\n",
      "product_parent       int64\n",
      "product_title        object\n",
      "product_category     object\n",
      "star_rating          float64\n",
      "helpful_votes        float64\n",
      "downvotes            float64\n",
      "total_votes          float64\n",
      "verified_purchase    object\n",
      "review_headline      object\n",
      "review_body          object\n",
      "review_date          object\n",
      "purchased_counts     int64\n",
      "dtypes: float64(4), int64(3), object(8)\n",
      "memory usage: 667.6+ MB\n"
     ]
    }
   ],
   "source": [
    "apr.info()"
   ]
  },
  {
   "cell_type": "code",
   "execution_count": 25,
   "metadata": {},
   "outputs": [
    {
     "data": {
      "text/html": [
       "<div>\n",
       "<style scoped>\n",
       "    .dataframe tbody tr th:only-of-type {\n",
       "        vertical-align: middle;\n",
       "    }\n",
       "\n",
       "    .dataframe tbody tr th {\n",
       "        vertical-align: top;\n",
       "    }\n",
       "\n",
       "    .dataframe thead th {\n",
       "        text-align: right;\n",
       "    }\n",
       "</style>\n",
       "<table border=\"1\" class=\"dataframe\">\n",
       "  <thead>\n",
       "    <tr style=\"text-align: right;\">\n",
       "      <th></th>\n",
       "      <th>customer_id</th>\n",
       "      <th>review_id</th>\n",
       "      <th>product_id</th>\n",
       "      <th>product_parent</th>\n",
       "      <th>product_title</th>\n",
       "      <th>product_category</th>\n",
       "      <th>star_rating</th>\n",
       "      <th>helpful_votes</th>\n",
       "      <th>downvotes</th>\n",
       "      <th>total_votes</th>\n",
       "      <th>verified_purchase</th>\n",
       "      <th>review_headline</th>\n",
       "      <th>review_body</th>\n",
       "      <th>review_date</th>\n",
       "      <th>purchased_counts</th>\n",
       "    </tr>\n",
       "  </thead>\n",
       "  <tbody>\n",
       "    <tr>\n",
       "      <th>0</th>\n",
       "      <td>53096384</td>\n",
       "      <td>R63J84G1LOX6R</td>\n",
       "      <td>1563890119</td>\n",
       "      <td>763187671</td>\n",
       "      <td>The Sandman Vol. 1: Preludes and Nocturnes</td>\n",
       "      <td>Books</td>\n",
       "      <td>4.0</td>\n",
       "      <td>0.0</td>\n",
       "      <td>1.0</td>\n",
       "      <td>1.0</td>\n",
       "      <td>N</td>\n",
       "      <td>ignore the review below</td>\n",
       "      <td>this is the first 8 issues of the series. it i...</td>\n",
       "      <td>1995-08-13</td>\n",
       "      <td>137</td>\n",
       "    </tr>\n",
       "    <tr>\n",
       "      <th>1</th>\n",
       "      <td>52741846</td>\n",
       "      <td>R3Q01UU0UZY3GH</td>\n",
       "      <td>1563890119</td>\n",
       "      <td>763187671</td>\n",
       "      <td>The Sandman Vol. 1: Preludes and Nocturnes</td>\n",
       "      <td>Books</td>\n",
       "      <td>5.0</td>\n",
       "      <td>0.0</td>\n",
       "      <td>0.0</td>\n",
       "      <td>0.0</td>\n",
       "      <td>N</td>\n",
       "      <td>Gaiman with yet another masterpiece</td>\n",
       "      <td>This book, like most tpb's in the Vertigo line...</td>\n",
       "      <td>1998-04-15</td>\n",
       "      <td>137</td>\n",
       "    </tr>\n",
       "    <tr>\n",
       "      <th>2</th>\n",
       "      <td>52249743</td>\n",
       "      <td>R22W00B604VKCQ</td>\n",
       "      <td>1563890119</td>\n",
       "      <td>763187671</td>\n",
       "      <td>The Sandman Vol. 1: Preludes and Nocturnes</td>\n",
       "      <td>Books</td>\n",
       "      <td>5.0</td>\n",
       "      <td>0.0</td>\n",
       "      <td>0.0</td>\n",
       "      <td>0.0</td>\n",
       "      <td>N</td>\n",
       "      <td>Breath taking, wonderful, amazing, mind tingling</td>\n",
       "      <td>Neil Gaiman, has taken a simple idea and turne...</td>\n",
       "      <td>1998-10-08</td>\n",
       "      <td>137</td>\n",
       "    </tr>\n",
       "    <tr>\n",
       "      <th>3</th>\n",
       "      <td>51796203</td>\n",
       "      <td>R1FKT8F96WD4JC</td>\n",
       "      <td>1563890119</td>\n",
       "      <td>763187671</td>\n",
       "      <td>The Sandman Vol. 1: Preludes and Nocturnes</td>\n",
       "      <td>Books</td>\n",
       "      <td>5.0</td>\n",
       "      <td>0.0</td>\n",
       "      <td>0.0</td>\n",
       "      <td>0.0</td>\n",
       "      <td>N</td>\n",
       "      <td>The beginning of a wonderful journey</td>\n",
       "      <td>The Sandman is, in my opinion the best whole c...</td>\n",
       "      <td>1999-01-21</td>\n",
       "      <td>137</td>\n",
       "    </tr>\n",
       "    <tr>\n",
       "      <th>4</th>\n",
       "      <td>51864502</td>\n",
       "      <td>R1NDDVLJ1EWKYR</td>\n",
       "      <td>1563890119</td>\n",
       "      <td>763187671</td>\n",
       "      <td>The Sandman Vol. 1: Preludes and Nocturnes</td>\n",
       "      <td>Books</td>\n",
       "      <td>5.0</td>\n",
       "      <td>2.0</td>\n",
       "      <td>0.0</td>\n",
       "      <td>2.0</td>\n",
       "      <td>N</td>\n",
       "      <td>Mythology, literature, and a damn good read!</td>\n",
       "      <td>I always hated comic books -- there was nothin...</td>\n",
       "      <td>1999-03-01</td>\n",
       "      <td>137</td>\n",
       "    </tr>\n",
       "  </tbody>\n",
       "</table>\n",
       "</div>"
      ],
      "text/plain": [
       "   customer_id       review_id  product_id  product_parent  \\\n",
       "0     53096384   R63J84G1LOX6R  1563890119       763187671   \n",
       "1     52741846  R3Q01UU0UZY3GH  1563890119       763187671   \n",
       "2     52249743  R22W00B604VKCQ  1563890119       763187671   \n",
       "3     51796203  R1FKT8F96WD4JC  1563890119       763187671   \n",
       "4     51864502  R1NDDVLJ1EWKYR  1563890119       763187671   \n",
       "\n",
       "                                product_title product_category  star_rating  \\\n",
       "0  The Sandman Vol. 1: Preludes and Nocturnes            Books          4.0   \n",
       "1  The Sandman Vol. 1: Preludes and Nocturnes            Books          5.0   \n",
       "2  The Sandman Vol. 1: Preludes and Nocturnes            Books          5.0   \n",
       "3  The Sandman Vol. 1: Preludes and Nocturnes            Books          5.0   \n",
       "4  The Sandman Vol. 1: Preludes and Nocturnes            Books          5.0   \n",
       "\n",
       "   helpful_votes  downvotes  total_votes verified_purchase  \\\n",
       "0            0.0        1.0          1.0                 N   \n",
       "1            0.0        0.0          0.0                 N   \n",
       "2            0.0        0.0          0.0                 N   \n",
       "3            0.0        0.0          0.0                 N   \n",
       "4            2.0        0.0          2.0                 N   \n",
       "\n",
       "                                    review_headline  \\\n",
       "0                           ignore the review below   \n",
       "1               Gaiman with yet another masterpiece   \n",
       "2  Breath taking, wonderful, amazing, mind tingling   \n",
       "3              The beginning of a wonderful journey   \n",
       "4      Mythology, literature, and a damn good read!   \n",
       "\n",
       "                                         review_body review_date  \\\n",
       "0  this is the first 8 issues of the series. it i...  1995-08-13   \n",
       "1  This book, like most tpb's in the Vertigo line...  1998-04-15   \n",
       "2  Neil Gaiman, has taken a simple idea and turne...  1998-10-08   \n",
       "3  The Sandman is, in my opinion the best whole c...  1999-01-21   \n",
       "4  I always hated comic books -- there was nothin...  1999-03-01   \n",
       "\n",
       "   purchased_counts  \n",
       "0               137  \n",
       "1               137  \n",
       "2               137  \n",
       "3               137  \n",
       "4               137  "
      ]
     },
     "execution_count": 25,
     "metadata": {},
     "output_type": "execute_result"
    }
   ],
   "source": [
    "apr.head()"
   ]
  },
  {
   "cell_type": "markdown",
   "metadata": {},
   "source": [
    "## Output Cleaned Dataset to New CSV File"
   ]
  },
  {
   "cell_type": "code",
   "execution_count": 26,
   "metadata": {},
   "outputs": [],
   "source": [
    "# apr.to_csv('APR_data/apr.csv')"
   ]
  }
 ],
 "metadata": {
  "kernelspec": {
   "display_name": "Python 3",
   "language": "python",
   "name": "python3"
  },
  "language_info": {
   "codemirror_mode": {
    "name": "ipython",
    "version": 3
   },
   "file_extension": ".py",
   "mimetype": "text/x-python",
   "name": "python",
   "nbconvert_exporter": "python",
   "pygments_lexer": "ipython3",
   "version": "3.7.1"
  }
 },
 "nbformat": 4,
 "nbformat_minor": 2
}
